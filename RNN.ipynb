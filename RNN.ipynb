{
 "cells": [
  {
   "cell_type": "markdown",
   "id": "behavioral-canon",
   "metadata": {},
   "source": [
    "# RNNs"
   ]
  },
  {
   "cell_type": "code",
   "execution_count": 1,
   "id": "radical-spirituality",
   "metadata": {},
   "outputs": [
    {
     "name": "stdout",
     "output_type": "stream",
     "text": [
      "Model: \"sequential\"\n",
      "_________________________________________________________________\n",
      " Layer (type)                Output Shape              Param #   \n",
      "=================================================================\n",
      " simple_rnn (SimpleRNN)      (None, 128)               17792     \n",
      "                                                                 \n",
      " dense (Dense)               (None, 1)                 129       \n",
      "                                                                 \n",
      "=================================================================\n",
      "Total params: 17,921\n",
      "Trainable params: 17,921\n",
      "Non-trainable params: 0\n",
      "_________________________________________________________________\n"
     ]
    }
   ],
   "source": [
    "# import\n",
    "from keras.models import Sequential\n",
    "from keras.layers import SimpleRNN, Dense\n",
    "\n",
    "# model\n",
    "model = Sequential()\n",
    "model.add (SimpleRNN(128, input_shape=(5,10)))\n",
    "model.add (Dense(1))\n",
    "model.build()\n",
    "\n",
    "model.summary()"
   ]
  },
  {
   "cell_type": "code",
   "execution_count": 2,
   "id": "weighted-object",
   "metadata": {},
   "outputs": [
    {
     "name": "stdout",
     "output_type": "stream",
     "text": [
      "simple_rnn/simple_rnn_cell/kernel:0 --> (10, 128)\n",
      "simple_rnn/simple_rnn_cell/recurrent_kernel:0 --> (128, 128)\n",
      "simple_rnn/simple_rnn_cell/bias:0 --> (128,)\n"
     ]
    }
   ],
   "source": [
    "# Print all metrices\n",
    "for x in model.layers[0].weights:\n",
    "    print(x.name, '-->', x.shape)"
   ]
  },
  {
   "cell_type": "markdown",
   "id": "dynamic-accreditation",
   "metadata": {},
   "source": [
    "# Deep Vertical RNNs"
   ]
  },
  {
   "cell_type": "code",
   "execution_count": 3,
   "id": "blank-athletics",
   "metadata": {},
   "outputs": [
    {
     "name": "stdout",
     "output_type": "stream",
     "text": [
      "Model: \"sequential_1\"\n",
      "_________________________________________________________________\n",
      " Layer (type)                Output Shape              Param #   \n",
      "=================================================================\n",
      " simple_rnn_1 (SimpleRNN)    (None, 5, 128)            17792     \n",
      "                                                                 \n",
      " simple_rnn_2 (SimpleRNN)    (None, 5, 128)            32896     \n",
      "                                                                 \n",
      " simple_rnn_3 (SimpleRNN)    (None, 128)               32896     \n",
      "                                                                 \n",
      " dense_1 (Dense)             (None, 1)                 129       \n",
      "                                                                 \n",
      "=================================================================\n",
      "Total params: 83,713\n",
      "Trainable params: 83,713\n",
      "Non-trainable params: 0\n",
      "_________________________________________________________________\n"
     ]
    }
   ],
   "source": [
    "# import\n",
    "from keras.models import Sequential\n",
    "from keras.layers import SimpleRNN, Dense\n",
    "\n",
    "# model\n",
    "model = Sequential()\n",
    "model.add (SimpleRNN(128, input_shape=(5,10), return_sequences=True))\n",
    "model.add (SimpleRNN(128, return_sequences=True))\n",
    "model.add (SimpleRNN(128, return_sequences=False))\n",
    "model.add (Dense(1))\n",
    "model.build()\n",
    "\n",
    "model.summary()"
   ]
  },
  {
   "cell_type": "markdown",
   "id": "dying-speaking",
   "metadata": {},
   "source": [
    "# LSTM"
   ]
  },
  {
   "cell_type": "code",
   "execution_count": 4,
   "id": "three-heath",
   "metadata": {},
   "outputs": [
    {
     "name": "stdout",
     "output_type": "stream",
     "text": [
      "Model: \"sequential_2\"\n",
      "_________________________________________________________________\n",
      " Layer (type)                Output Shape              Param #   \n",
      "=================================================================\n",
      " lstm (LSTM)                 (None, 128)               71168     \n",
      "                                                                 \n",
      " dense_2 (Dense)             (None, 1)                 129       \n",
      "                                                                 \n",
      "=================================================================\n",
      "Total params: 71,297\n",
      "Trainable params: 71,297\n",
      "Non-trainable params: 0\n",
      "_________________________________________________________________\n"
     ]
    }
   ],
   "source": [
    "# import\n",
    "from keras.models import Sequential\n",
    "from keras.layers import SimpleRNN, Dense, LSTM\n",
    "\n",
    "# model\n",
    "model = Sequential()\n",
    "model.add (LSTM(128, input_shape=(5,10)))\n",
    "model.add (Dense(1))\n",
    "model.build()\n",
    "\n",
    "model.summary()"
   ]
  },
  {
   "cell_type": "code",
   "execution_count": 5,
   "id": "infectious-request",
   "metadata": {},
   "outputs": [
    {
     "name": "stdout",
     "output_type": "stream",
     "text": [
      "lstm/lstm_cell/kernel:0 --> (10, 512)\n",
      "lstm/lstm_cell/recurrent_kernel:0 --> (128, 512)\n",
      "lstm/lstm_cell/bias:0 --> (512,)\n"
     ]
    }
   ],
   "source": [
    "# Print all metrices\n",
    "for x in model.layers[0].weights:\n",
    "    print(x.name, '-->', x.shape)"
   ]
  },
  {
   "cell_type": "code",
   "execution_count": null,
   "id": "exact-munich",
   "metadata": {},
   "outputs": [],
   "source": []
  }
 ],
 "metadata": {
  "kernelspec": {
   "display_name": "Python 3",
   "language": "python",
   "name": "python3"
  },
  "language_info": {
   "codemirror_mode": {
    "name": "ipython",
    "version": 3
   },
   "file_extension": ".py",
   "mimetype": "text/x-python",
   "name": "python",
   "nbconvert_exporter": "python",
   "pygments_lexer": "ipython3",
   "version": "3.7.10"
  }
 },
 "nbformat": 4,
 "nbformat_minor": 5
}
