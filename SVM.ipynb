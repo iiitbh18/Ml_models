{
 "cells": [
  {
   "cell_type": "code",
   "execution_count": 1,
   "id": "large-prisoner",
   "metadata": {},
   "outputs": [],
   "source": [
    "import numpy as np\n",
    "\n",
    "from sklearn.datasets import fetch_openml\n",
    "mnist = fetch_openml('mnist_784', version=1, cache=True)\n",
    "\n",
    "X = mnist[\"data\"]\n",
    "y = mnist[\"target\"].astype(np.uint8)"
   ]
  },
  {
   "cell_type": "code",
   "execution_count": 2,
   "id": "sealed-boundary",
   "metadata": {},
   "outputs": [],
   "source": [
    "X_train = X[:60000]\n",
    "y_train = y[:60000]\n",
    "X_test = X[60000:]\n",
    "y_test = y[60000:]"
   ]
  },
  {
   "cell_type": "code",
   "execution_count": 3,
   "id": "tired-courtesy",
   "metadata": {},
   "outputs": [],
   "source": [
    "from sklearn.svm import LinearSVC"
   ]
  },
  {
   "cell_type": "code",
   "execution_count": 4,
   "id": "english-mainstream",
   "metadata": {},
   "outputs": [
    {
     "name": "stderr",
     "output_type": "stream",
     "text": [
      "C:\\Users\\Gaurav Bhutani\\Anaconda3\\envs\\tensorflow\\lib\\site-packages\\sklearn\\svm\\_base.py:986: ConvergenceWarning: Liblinear failed to converge, increase the number of iterations.\n",
      "  \"the number of iterations.\", ConvergenceWarning)\n"
     ]
    },
    {
     "data": {
      "text/plain": [
       "LinearSVC(random_state=42)"
      ]
     },
     "execution_count": 4,
     "metadata": {},
     "output_type": "execute_result"
    }
   ],
   "source": [
    "lin_clf = LinearSVC(random_state=42)\n",
    "lin_clf.fit(X_train, y_train)"
   ]
  },
  {
   "cell_type": "code",
   "execution_count": 5,
   "id": "confident-keeping",
   "metadata": {},
   "outputs": [
    {
     "data": {
      "text/plain": [
       "0.8348666666666666"
      ]
     },
     "execution_count": 5,
     "metadata": {},
     "output_type": "execute_result"
    }
   ],
   "source": [
    "from sklearn.metrics import accuracy_score\n",
    "\n",
    "y_pred = lin_clf.predict(X_train)\n",
    "accuracy_score(y_train, y_pred)"
   ]
  },
  {
   "cell_type": "code",
   "execution_count": 6,
   "id": "threaded-happiness",
   "metadata": {},
   "outputs": [],
   "source": [
    "from sklearn.preprocessing import StandardScaler"
   ]
  },
  {
   "cell_type": "code",
   "execution_count": 7,
   "id": "velvet-hacker",
   "metadata": {},
   "outputs": [],
   "source": [
    "scaler = StandardScaler()\n",
    "X_train_scaled = scaler.fit_transform(X_train.astype(np.float32))\n",
    "X_test_scaled = scaler.transform(X_test.astype(np.float32))"
   ]
  },
  {
   "cell_type": "code",
   "execution_count": 8,
   "id": "unauthorized-palmer",
   "metadata": {},
   "outputs": [
    {
     "name": "stderr",
     "output_type": "stream",
     "text": [
      "C:\\Users\\Gaurav Bhutani\\Anaconda3\\envs\\tensorflow\\lib\\site-packages\\sklearn\\svm\\_base.py:986: ConvergenceWarning: Liblinear failed to converge, increase the number of iterations.\n",
      "  \"the number of iterations.\", ConvergenceWarning)\n"
     ]
    },
    {
     "data": {
      "text/plain": [
       "LinearSVC(random_state=42)"
      ]
     },
     "execution_count": 8,
     "metadata": {},
     "output_type": "execute_result"
    }
   ],
   "source": [
    "lin_clf = LinearSVC(random_state=42)\n",
    "lin_clf.fit(X_train_scaled, y_train)"
   ]
  },
  {
   "cell_type": "code",
   "execution_count": 9,
   "id": "continuing-bunch",
   "metadata": {},
   "outputs": [],
   "source": [
    "from sklearn.svm import SVC"
   ]
  },
  {
   "cell_type": "code",
   "execution_count": 10,
   "id": "reserved-organization",
   "metadata": {},
   "outputs": [
    {
     "data": {
      "text/plain": [
       "0.9217333333333333"
      ]
     },
     "execution_count": 10,
     "metadata": {},
     "output_type": "execute_result"
    }
   ],
   "source": [
    "y_pred = lin_clf.predict(X_train_scaled)\n",
    "accuracy_score(y_train, y_pred)"
   ]
  },
  {
   "cell_type": "code",
   "execution_count": 11,
   "id": "joint-ranking",
   "metadata": {},
   "outputs": [
    {
     "data": {
      "text/plain": [
       "SVC()"
      ]
     },
     "execution_count": 11,
     "metadata": {},
     "output_type": "execute_result"
    }
   ],
   "source": [
    "svm_clf = SVC(gamma=\"scale\")\n",
    "svm_clf.fit(X_train_scaled[:10000], y_train[:10000])"
   ]
  },
  {
   "cell_type": "code",
   "execution_count": 12,
   "id": "final-summer",
   "metadata": {},
   "outputs": [
    {
     "data": {
      "text/plain": [
       "0.9455333333333333"
      ]
     },
     "execution_count": 12,
     "metadata": {},
     "output_type": "execute_result"
    }
   ],
   "source": [
    "y_pred = svm_clf.predict(X_train_scaled)\n",
    "accuracy_score(y_train, y_pred)"
   ]
  },
  {
   "cell_type": "code",
   "execution_count": 13,
   "id": "fundamental-departure",
   "metadata": {},
   "outputs": [],
   "source": [
    "from sklearn.model_selection import RandomizedSearchCV\n",
    "from scipy.stats import reciprocal, uniform"
   ]
  },
  {
   "cell_type": "code",
   "execution_count": 14,
   "id": "attended-mortality",
   "metadata": {},
   "outputs": [
    {
     "name": "stdout",
     "output_type": "stream",
     "text": [
      "Fitting 3 folds for each of 10 candidates, totalling 30 fits\n",
      "[CV] END .....C=6.0751103019171, gamma=0.0023731122409619758; total time=   1.0s\n",
      "[CV] END .....C=6.0751103019171, gamma=0.0023731122409619758; total time=   0.3s\n",
      "[CV] END .....C=6.0751103019171, gamma=0.0023731122409619758; total time=   0.3s\n",
      "[CV] END .....C=3.1822130673049553, gamma=0.0109014153896574; total time=   0.3s\n",
      "[CV] END .....C=3.1822130673049553, gamma=0.0109014153896574; total time=   0.3s\n",
      "[CV] END .....C=3.1822130673049553, gamma=0.0109014153896574; total time=   0.3s\n",
      "[CV] END ....C=6.910783919787324, gamma=0.047494786243425624; total time=   0.4s\n",
      "[CV] END ....C=6.910783919787324, gamma=0.047494786243425624; total time=   0.4s\n",
      "[CV] END ....C=6.910783919787324, gamma=0.047494786243425624; total time=   0.3s\n",
      "[CV] END ....C=4.460834425164735, gamma=0.003841193374940027; total time=   0.4s\n",
      "[CV] END ....C=4.460834425164735, gamma=0.003841193374940027; total time=   0.4s\n",
      "[CV] END ....C=4.460834425164735, gamma=0.003841193374940027; total time=   0.4s\n",
      "[CV] END ...C=7.209863993441228, gamma=0.0013977851032753884; total time=   0.3s\n",
      "[CV] END ...C=7.209863993441228, gamma=0.0013977851032753884; total time=   0.4s\n",
      "[CV] END ...C=7.209863993441228, gamma=0.0013977851032753884; total time=   0.3s\n",
      "[CV] END .....C=4.630376182156018, gamma=0.01345119809630989; total time=   0.3s\n",
      "[CV] END .....C=4.630376182156018, gamma=0.01345119809630989; total time=   0.3s\n",
      "[CV] END .....C=4.630376182156018, gamma=0.01345119809630989; total time=   0.3s\n",
      "[CV] END ....C=3.3238367122765013, gamma=0.08073953785307413; total time=   0.4s\n",
      "[CV] END ....C=3.3238367122765013, gamma=0.08073953785307413; total time=   0.4s\n",
      "[CV] END ....C=3.3238367122765013, gamma=0.08073953785307413; total time=   0.3s\n",
      "[CV] END ....C=3.5500199499390286, gamma=0.03697672778248466; total time=   0.3s\n",
      "[CV] END ....C=3.5500199499390286, gamma=0.03697672778248466; total time=   0.3s\n",
      "[CV] END ....C=3.5500199499390286, gamma=0.03697672778248466; total time=   0.4s\n",
      "[CV] END .....C=7.487100103616287, gamma=0.02425722533434169; total time=   0.4s\n",
      "[CV] END .....C=7.487100103616287, gamma=0.02425722533434169; total time=   0.3s\n",
      "[CV] END .....C=7.487100103616287, gamma=0.02425722533434169; total time=   0.3s\n",
      "[CV] END ....C=5.744674879338601, gamma=0.013444335224898225; total time=   0.3s\n",
      "[CV] END ....C=5.744674879338601, gamma=0.013444335224898225; total time=   0.3s\n",
      "[CV] END ....C=5.744674879338601, gamma=0.013444335224898225; total time=   0.4s\n"
     ]
    },
    {
     "data": {
      "text/plain": [
       "RandomizedSearchCV(cv=3, estimator=SVC(),\n",
       "                   param_distributions={'C': <scipy.stats._distn_infrastructure.rv_frozen object at 0x000001ADC6F83948>,\n",
       "                                        'gamma': <scipy.stats._distn_infrastructure.rv_frozen object at 0x000001ADC6F81B88>},\n",
       "                   verbose=2)"
      ]
     },
     "execution_count": 14,
     "metadata": {},
     "output_type": "execute_result"
    }
   ],
   "source": [
    "param_distributions = {\"gamma\": reciprocal(0.001, 0.1), \"C\": uniform(1, 10)}\n",
    "rnd_search_cv = RandomizedSearchCV(svm_clf, param_distributions, n_iter=10, verbose=2, cv=3)\n",
    "rnd_search_cv.fit(X_train_scaled[:1000], y_train[:1000])"
   ]
  },
  {
   "cell_type": "code",
   "execution_count": 15,
   "id": "center-forum",
   "metadata": {},
   "outputs": [
    {
     "data": {
      "text/plain": [
       "SVC(C=7.209863993441228, gamma=0.0013977851032753884)"
      ]
     },
     "execution_count": 15,
     "metadata": {},
     "output_type": "execute_result"
    }
   ],
   "source": [
    "rnd_search_cv.best_estimator_"
   ]
  },
  {
   "cell_type": "code",
   "execution_count": 16,
   "id": "convenient-saturday",
   "metadata": {},
   "outputs": [
    {
     "data": {
      "text/plain": [
       "0.8639927352502204"
      ]
     },
     "execution_count": 16,
     "metadata": {},
     "output_type": "execute_result"
    }
   ],
   "source": [
    "rnd_search_cv.best_score_"
   ]
  },
  {
   "cell_type": "code",
   "execution_count": 17,
   "id": "mighty-professor",
   "metadata": {},
   "outputs": [
    {
     "data": {
      "text/plain": [
       "SVC(C=7.209863993441228, gamma=0.0013977851032753884)"
      ]
     },
     "execution_count": 17,
     "metadata": {},
     "output_type": "execute_result"
    }
   ],
   "source": [
    "rnd_search_cv.best_estimator_.fit(X_train_scaled, y_train)"
   ]
  },
  {
   "cell_type": "code",
   "execution_count": 20,
   "id": "broke-bubble",
   "metadata": {},
   "outputs": [],
   "source": [
    "from sklearn.metrics import mean_squared_error"
   ]
  },
  {
   "cell_type": "code",
   "execution_count": 21,
   "id": "graduate-sphere",
   "metadata": {},
   "outputs": [
    {
     "data": {
      "text/plain": [
       "0.14543039572248986"
      ]
     },
     "execution_count": 21,
     "metadata": {},
     "output_type": "execute_result"
    }
   ],
   "source": [
    "y_pred = rnd_search_cv.best_estimator_.predict(X_train_scaled)\n",
    "mse = mean_squared_error(y_train, y_pred)\n",
    "np.sqrt(mse)"
   ]
  },
  {
   "cell_type": "code",
   "execution_count": 22,
   "id": "civic-bosnia",
   "metadata": {},
   "outputs": [
    {
     "data": {
      "text/plain": [
       "0.6659579566308972"
      ]
     },
     "execution_count": 22,
     "metadata": {},
     "output_type": "execute_result"
    }
   ],
   "source": [
    "y_pred = rnd_search_cv.best_estimator_.predict(X_test_scaled)\n",
    "mse = mean_squared_error(y_test, y_pred)\n",
    "np.sqrt(mse)"
   ]
  },
  {
   "cell_type": "code",
   "execution_count": 23,
   "id": "perceived-madison",
   "metadata": {},
   "outputs": [
    {
     "data": {
      "text/plain": [
       "0.9729"
      ]
     },
     "execution_count": 23,
     "metadata": {},
     "output_type": "execute_result"
    }
   ],
   "source": [
    "y_pred = rnd_search_cv.best_estimator_.predict(X_test_scaled)\n",
    "accuracy_score(y_test, y_pred)"
   ]
  },
  {
   "cell_type": "code",
   "execution_count": null,
   "id": "unlikely-thickness",
   "metadata": {},
   "outputs": [],
   "source": []
  }
 ],
 "metadata": {
  "kernelspec": {
   "display_name": "Python 3",
   "language": "python",
   "name": "python3"
  },
  "language_info": {
   "codemirror_mode": {
    "name": "ipython",
    "version": 3
   },
   "file_extension": ".py",
   "mimetype": "text/x-python",
   "name": "python",
   "nbconvert_exporter": "python",
   "pygments_lexer": "ipython3",
   "version": "3.7.10"
  }
 },
 "nbformat": 4,
 "nbformat_minor": 5
}
