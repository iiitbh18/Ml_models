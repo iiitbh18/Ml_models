{
 "cells": [
  {
   "cell_type": "code",
   "execution_count": null,
   "id": "exclusive-excuse",
   "metadata": {},
   "outputs": [],
   "source": [
    "!pip install mlxtend \n",
    "!pip install pandas \n",
    "!pip install -U scikit-learn"
   ]
  },
  {
   "cell_type": "code",
   "execution_count": null,
   "id": "running-polyester",
   "metadata": {},
   "outputs": [],
   "source": [
    "# Importing Libraries\n",
    "import pandas as pd\n",
    "import matplotlib.pyplot as plt\n",
    "from mlxtend.plotting import plot_confusion_matrix\n",
    "from mlxtend.classifier import StackingClassifier\n",
    "from sklearn.model_selection import train_test_split\n",
    "from sklearn.preprocessing import StandardScaler\n",
    "from sklearn.linear_model import LogisticRegression\n",
    "from sklearn.neighbors import KNeighborsClassifier\n",
    "from sklearn.naive_bayes import GaussianNB\n",
    "from sklearn.metrics import confusion_matrix\n",
    "from sklearn.metrics import accuracy_score"
   ]
  },
  {
   "cell_type": "code",
   "execution_count": null,
   "id": "arabic-designer",
   "metadata": {},
   "outputs": [],
   "source": [
    "# Loading the dataset\n",
    "df = pd.read_csv('heart.csv') # loading the dataset\n",
    "df.head() # viewing top 5 rows of dataset"
   ]
  },
  {
   "cell_type": "code",
   "execution_count": null,
   "id": "reserved-optimum",
   "metadata": {},
   "outputs": [],
   "source": [
    "# Creating X and y for training\n",
    "X = df.drop('target', axis = 1)\n",
    "y = df['target']"
   ]
  },
  {
   "cell_type": "code",
   "execution_count": null,
   "id": "underlying-destination",
   "metadata": {},
   "outputs": [],
   "source": [
    "# 20 % training dataset is considered for testing\n",
    "X_train, X_test, y_train, y_test = train_test_split(X, y, test_size = 0.2, random_state = 42)"
   ]
  },
  {
   "cell_type": "code",
   "execution_count": null,
   "id": "periodic-nelson",
   "metadata": {},
   "outputs": [],
   "source": [
    "# initializing sc object\n",
    "sc = StandardScaler()\n",
    "\n",
    "# variables that needed to be transformed\n",
    "var_transform = ['thalach', 'age', 'trestbps', 'oldpeak', 'chol']\n",
    "X_train[var_transform] = sc.fit_transform(X_train[var_transform]) # standardizing training data\n",
    "X_test[var_transform] = sc.transform(X_test[var_transform])\t\t # standardizing test data\n",
    "print(X_train.head())"
   ]
  },
  {
   "cell_type": "code",
   "execution_count": null,
   "id": "concrete-paint",
   "metadata": {},
   "outputs": [],
   "source": [
    "KNC = KNeighborsClassifier() # initialising KNeighbors Classifier\n",
    "NB = GaussianNB() # initialising Naive Bayes"
   ]
  },
  {
   "cell_type": "code",
   "execution_count": null,
   "id": "descending-utility",
   "metadata": {},
   "outputs": [],
   "source": [
    "model_kNeighborsClassifier = KNC.fit(X_train, y_train) # fitting Training Set\n",
    "pred_knc = model_kNeighborsClassifier.predict(X_test) # Predicting on test dataset"
   ]
  },
  {
   "cell_type": "code",
   "execution_count": null,
   "id": "known-moses",
   "metadata": {},
   "outputs": [],
   "source": [
    "acc_knc = accuracy_score(y_test, pred_knc) # evaluating accuracy score\n",
    "print('accuracy score of KNeighbors Classifier is:', acc_knc * 100)"
   ]
  },
  {
   "cell_type": "code",
   "execution_count": null,
   "id": "democratic-evanescence",
   "metadata": {},
   "outputs": [],
   "source": [
    "model_NaiveBayes = NB.fit(X_train, y_train)\n",
    "pred_nb = model_NaiveBayes.predict(X_test)"
   ]
  },
  {
   "cell_type": "code",
   "execution_count": null,
   "id": "historical-workstation",
   "metadata": {},
   "outputs": [],
   "source": [
    "acc_nb = accuracy_score(y_test, pred_nb)\n",
    "print('Accuracy of Naive Bayes Classifier:', acc_nb * 100)"
   ]
  },
  {
   "cell_type": "code",
   "execution_count": null,
   "id": "binary-corruption",
   "metadata": {},
   "outputs": [],
   "source": [
    "lr = LogisticRegression() # defining meta-classifier\n",
    "clf_stack = StackingClassifier(classifiers =[KNC, NB], meta_classifier = lr, use_probas = True, use_features_in_secondary = True)"
   ]
  },
  {
   "cell_type": "code",
   "execution_count": null,
   "id": "incomplete-outdoors",
   "metadata": {},
   "outputs": [],
   "source": [
    "model_stack = clf_stack.fit(X_train, y_train) # training of stacked model\n",
    "pred_stack = model_stack.predict(X_test)\t # predictions on test data using stacked model"
   ]
  },
  {
   "cell_type": "code",
   "execution_count": null,
   "id": "solid-scholarship",
   "metadata": {},
   "outputs": [],
   "source": [
    "acc_stack = accuracy_score(y_test, pred_stack) # evaluating accuracy\n",
    "print('accuracy score of Stacked model:', acc_stack * 100)"
   ]
  },
  {
   "cell_type": "code",
   "execution_count": null,
   "id": "spanish-worcester",
   "metadata": {},
   "outputs": [],
   "source": [
    "model_stack = clf_stack.fit(X_train, y_train) # training of stacked model\n",
    "pred_stack = model_stack.predict(X_test)\t # predictions on test data using stacked model"
   ]
  },
  {
   "cell_type": "code",
   "execution_count": null,
   "id": "casual-mounting",
   "metadata": {},
   "outputs": [],
   "source": [
    "acc_stack = accuracy_score(y_test, pred_stack) # evaluating accuracy\n",
    "print('accuracy score of Stacked model:', acc_stack * 100)"
   ]
  },
  {
   "cell_type": "code",
   "execution_count": null,
   "id": "burning-thomas",
   "metadata": {},
   "outputs": [],
   "source": []
  },
  {
   "cell_type": "code",
   "execution_count": null,
   "id": "judicial-exclusion",
   "metadata": {},
   "outputs": [],
   "source": []
  }
 ],
 "metadata": {
  "kernelspec": {
   "display_name": "Python 3",
   "language": "python",
   "name": "python3"
  },
  "language_info": {
   "codemirror_mode": {
    "name": "ipython",
    "version": 3
   },
   "file_extension": ".py",
   "mimetype": "text/x-python",
   "name": "python",
   "nbconvert_exporter": "python",
   "pygments_lexer": "ipython3",
   "version": "3.7.10"
  }
 },
 "nbformat": 4,
 "nbformat_minor": 5
}
