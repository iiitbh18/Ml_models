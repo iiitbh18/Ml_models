{
 "cells": [
  {
   "cell_type": "code",
   "execution_count": 1,
   "id": "partial-narrow",
   "metadata": {},
   "outputs": [],
   "source": [
    "# first neural network with keras tutorial\n",
    "from numpy import loadtxt\n",
    "from keras.models import Sequential\n",
    "from keras.layers import Dense"
   ]
  },
  {
   "cell_type": "code",
   "execution_count": 2,
   "id": "stainless-production",
   "metadata": {},
   "outputs": [],
   "source": [
    "# load the dataset\n",
    "dataset = loadtxt('pima-indians-diabetes.csv', delimiter=',')"
   ]
  },
  {
   "cell_type": "code",
   "execution_count": 3,
   "id": "divine-painting",
   "metadata": {},
   "outputs": [],
   "source": [
    "# split into input (X) and output (y) variables\n",
    "X = dataset[:,0:8]\n",
    "y = dataset[:,8]"
   ]
  },
  {
   "cell_type": "code",
   "execution_count": 4,
   "id": "amazing-rescue",
   "metadata": {},
   "outputs": [],
   "source": [
    "# define the keras model\n",
    "model = Sequential()\n",
    "model.add(Dense(12, input_dim=8, activation='relu'))\n",
    "model.add(Dense(8, activation='relu'))\n",
    "model.add(Dense(1, activation='sigmoid'))"
   ]
  },
  {
   "cell_type": "code",
   "execution_count": 5,
   "id": "graduate-uruguay",
   "metadata": {},
   "outputs": [],
   "source": [
    "# compile the keras model\n",
    "model.compile(loss='binary_crossentropy', optimizer='adam', metrics=['accuracy'])"
   ]
  },
  {
   "cell_type": "code",
   "execution_count": 6,
   "id": "about-brooks",
   "metadata": {},
   "outputs": [
    {
     "name": "stdout",
     "output_type": "stream",
     "text": [
      "Epoch 1/15\n",
      "77/77 [==============================] - 1s 2ms/step - loss: 3.3734 - accuracy: 0.6107\n",
      "Epoch 2/15\n",
      "77/77 [==============================] - 0s 2ms/step - loss: 1.0264 - accuracy: 0.6406\n",
      "Epoch 3/15\n",
      "77/77 [==============================] - 0s 2ms/step - loss: 0.8451 - accuracy: 0.6471\n",
      "Epoch 4/15\n",
      "77/77 [==============================] - 0s 2ms/step - loss: 0.7526 - accuracy: 0.6680\n",
      "Epoch 5/15\n",
      "77/77 [==============================] - 0s 2ms/step - loss: 0.7183 - accuracy: 0.6771\n",
      "Epoch 6/15\n",
      "77/77 [==============================] - 0s 2ms/step - loss: 0.7076 - accuracy: 0.6901: 0s - loss: 0.6965 - accuracy: 0.\n",
      "Epoch 7/15\n",
      "77/77 [==============================] - 0s 2ms/step - loss: 0.6927 - accuracy: 0.6784\n",
      "Epoch 8/15\n",
      "77/77 [==============================] - 0s 3ms/step - loss: 0.6659 - accuracy: 0.6732\n",
      "Epoch 9/15\n",
      "77/77 [==============================] - 0s 2ms/step - loss: 0.6673 - accuracy: 0.6810\n",
      "Epoch 10/15\n",
      "77/77 [==============================] - 0s 2ms/step - loss: 0.6522 - accuracy: 0.6784\n",
      "Epoch 11/15\n",
      "77/77 [==============================] - 0s 2ms/step - loss: 0.6411 - accuracy: 0.6953\n",
      "Epoch 12/15\n",
      "77/77 [==============================] - 0s 2ms/step - loss: 0.6218 - accuracy: 0.6849\n",
      "Epoch 13/15\n",
      "77/77 [==============================] - 0s 2ms/step - loss: 0.6221 - accuracy: 0.6875\n",
      "Epoch 14/15\n",
      "77/77 [==============================] - 0s 2ms/step - loss: 0.6043 - accuracy: 0.6823\n",
      "Epoch 15/15\n",
      "77/77 [==============================] - 0s 2ms/step - loss: 0.5994 - accuracy: 0.7096\n"
     ]
    },
    {
     "data": {
      "text/plain": [
       "<keras.callbacks.History at 0x1cb27e20a88>"
      ]
     },
     "execution_count": 6,
     "metadata": {},
     "output_type": "execute_result"
    }
   ],
   "source": [
    "# fit the keras model on the dataset\n",
    "model.fit(X, y, epochs=15, batch_size=10)"
   ]
  },
  {
   "cell_type": "code",
   "execution_count": 9,
   "id": "german-vinyl",
   "metadata": {},
   "outputs": [
    {
     "name": "stdout",
     "output_type": "stream",
     "text": [
      "24/24 [==============================] - 0s 2ms/step - loss: 0.5813 - accuracy: 0.7122\n",
      "Accuracy: 71.22\n"
     ]
    }
   ],
   "source": [
    "# evaluate the keras model\n",
    "_, accuracy = model.evaluate(X, y)\n",
    "print('Accuracy: %.2f' % (accuracy*100))"
   ]
  }
 ],
 "metadata": {
  "kernelspec": {
   "display_name": "Python 3",
   "language": "python",
   "name": "python3"
  },
  "language_info": {
   "codemirror_mode": {
    "name": "ipython",
    "version": 3
   },
   "file_extension": ".py",
   "mimetype": "text/x-python",
   "name": "python",
   "nbconvert_exporter": "python",
   "pygments_lexer": "ipython3",
   "version": "3.7.10"
  }
 },
 "nbformat": 4,
 "nbformat_minor": 5
}
