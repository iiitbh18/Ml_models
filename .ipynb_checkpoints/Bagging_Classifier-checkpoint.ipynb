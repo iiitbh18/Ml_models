{
 "cells": [
  {
   "cell_type": "code",
   "execution_count": 7,
   "id": "direct-gravity",
   "metadata": {},
   "outputs": [
    {
     "name": "stdout",
     "output_type": "stream",
     "text": [
      "Model test Score:\t0.958  \n",
      "Model training Score:\t0.972\n"
     ]
    }
   ],
   "source": [
    "# Pipeline Estimator\n",
    "pipeline = make_pipeline(StandardScaler(), LogisticRegression(random_state=1))\n",
    "\n",
    "# Instantiate the bagging classifier\n",
    "bgclassifier = BaggingClassifier(base_estimator=pipeline, n_estimators=100,\n",
    "                                 max_features=10, max_samples=100, random_state=1, n_jobs=5)\n",
    "\n",
    "# Fit the bagging classifier\n",
    "bgclassifier.fit(X_train, y_train)\n",
    "\n",
    "# Model scores on test and training data\n",
    "print('Model test Score:\\t%.3f ' %bgclassifier.score(X_test, y_test),\n",
    "      '\\nModel training Score:\\t%.3f' %bgclassifier.score(X_train, y_train))"
   ]
  }
 ],
 "metadata": {
  "kernelspec": {
   "display_name": "Python 3",
   "language": "python",
   "name": "python3"
  },
  "language_info": {
   "codemirror_mode": {
    "name": "ipython",
    "version": 3
   },
   "file_extension": ".py",
   "mimetype": "text/x-python",
   "name": "python",
   "nbconvert_exporter": "python",
   "pygments_lexer": "ipython3",
   "version": "3.7.10"
  }
 },
 "nbformat": 4,
 "nbformat_minor": 5
}
