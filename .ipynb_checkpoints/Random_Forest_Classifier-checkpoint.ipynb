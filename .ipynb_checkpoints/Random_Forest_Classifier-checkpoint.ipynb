{
 "cells": [
  {
   "cell_type": "code",
   "execution_count": null,
   "id": "dynamic-intelligence",
   "metadata": {},
   "outputs": [],
   "source": [
    "from sklearn.datasets import load_digits\n",
    "import numpy as np\n",
    "from sklearn.ensemble import RandomForestClassifier\n",
    "from sklearn.model_selection import train_test_split"
   ]
  },
  {
   "cell_type": "code",
   "execution_count": null,
   "id": "chief-gnome",
   "metadata": {},
   "outputs": [],
   "source": [
    "digits = load_digits(n_class = 2)\n",
    "X = digits.data\n",
    "y = digits.target\n",
    "X_train, X_test, y_train, y_test = train_test_split(X,y, test_size=0.3)"
   ]
  },
  {
   "cell_type": "code",
   "execution_count": null,
   "id": "foreign-courtesy",
   "metadata": {},
   "outputs": [],
   "source": [
    "forest = RandomForestClassifier()\n",
    "forest.fit(X_train, y_train)"
   ]
  },
  {
   "cell_type": "code",
   "execution_count": null,
   "id": "filled-edinburgh",
   "metadata": {},
   "outputs": [],
   "source": [
    "accuracy = forest.score(X_test, y_test)\n",
    "print('The accuracy was', 100*accuracy, '% on the test data.')"
   ]
  },
  {
   "cell_type": "code",
   "execution_count": 1,
   "id": "protective-instruction",
   "metadata": {},
   "outputs": [
    {
     "name": "stdout",
     "output_type": "stream",
     "text": [
      "The accuracy was 99.07407407407408 % on the test data.\n",
      "The digit at index 0 of X_test was classified as a 0 .\n"
     ]
    }
   ],
   "source": [
    "classifications = forest.predict(X_test)\n",
    "print( 'The digit at index 0 of X_test was classified as a', classifications[0], '.')"
   ]
  }
 ],
 "metadata": {
  "kernelspec": {
   "display_name": "Python 3",
   "language": "python",
   "name": "python3"
  },
  "language_info": {
   "codemirror_mode": {
    "name": "ipython",
    "version": 3
   },
   "file_extension": ".py",
   "mimetype": "text/x-python",
   "name": "python",
   "nbconvert_exporter": "python",
   "pygments_lexer": "ipython3",
   "version": "3.7.10"
  }
 },
 "nbformat": 4,
 "nbformat_minor": 5
}
