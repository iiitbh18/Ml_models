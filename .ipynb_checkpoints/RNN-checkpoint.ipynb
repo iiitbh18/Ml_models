{
 "cells": [
  {
   "cell_type": "markdown",
   "id": "modified-aside",
   "metadata": {},
   "source": [
    "# RNNs"
   ]
  },
  {
   "cell_type": "code",
   "execution_count": 9,
   "id": "blank-sixth",
   "metadata": {},
   "outputs": [
    {
     "name": "stdout",
     "output_type": "stream",
     "text": [
      "Model: \"sequential_6\"\n",
      "_________________________________________________________________\n",
      " Layer (type)                Output Shape              Param #   \n",
      "=================================================================\n",
      " simple_rnn_5 (SimpleRNN)    (None, 128)               17792     \n",
      "                                                                 \n",
      " dense_3 (Dense)             (None, 1)                 129       \n",
      "                                                                 \n",
      "=================================================================\n",
      "Total params: 17,921\n",
      "Trainable params: 17,921\n",
      "Non-trainable params: 0\n",
      "_________________________________________________________________\n"
     ]
    }
   ],
   "source": [
    "# import\n",
    "from keras.models import Sequential\n",
    "from keras.layers import SimpleRNN, Dense\n",
    "\n",
    "# model\n",
    "model = Sequential()\n",
    "model.add (SimpleRNN(128, input_shape=(5,10)))\n",
    "model.add (Dense(1))\n",
    "model.build()\n",
    "\n",
    "model.summary()"
   ]
  },
  {
   "cell_type": "code",
   "execution_count": 18,
   "id": "optimum-making",
   "metadata": {},
   "outputs": [
    {
     "name": "stdout",
     "output_type": "stream",
     "text": [
      "lstm_2/lstm_cell_2/kernel:0 --> (10, 512)\n",
      "lstm_2/lstm_cell_2/recurrent_kernel:0 --> (128, 512)\n",
      "lstm_2/lstm_cell_2/bias:0 --> (512,)\n"
     ]
    }
   ],
   "source": [
    "# Print all metrices\n",
    "for x in model.layers[0].weights:\n",
    "    print(x.name, '-->', x.shape)"
   ]
  },
  {
   "cell_type": "markdown",
   "id": "fantastic-palestinian",
   "metadata": {},
   "source": [
    "# Deep Vertical RNNs"
   ]
  },
  {
   "cell_type": "code",
   "execution_count": 11,
   "id": "distinguished-despite",
   "metadata": {},
   "outputs": [
    {
     "name": "stdout",
     "output_type": "stream",
     "text": [
      "Model: \"sequential_7\"\n",
      "_________________________________________________________________\n",
      " Layer (type)                Output Shape              Param #   \n",
      "=================================================================\n",
      " simple_rnn_6 (SimpleRNN)    (None, 5, 128)            17792     \n",
      "                                                                 \n",
      " simple_rnn_7 (SimpleRNN)    (None, 5, 128)            32896     \n",
      "                                                                 \n",
      " simple_rnn_8 (SimpleRNN)    (None, 128)               32896     \n",
      "                                                                 \n",
      " dense_4 (Dense)             (None, 1)                 129       \n",
      "                                                                 \n",
      "=================================================================\n",
      "Total params: 83,713\n",
      "Trainable params: 83,713\n",
      "Non-trainable params: 0\n",
      "_________________________________________________________________\n"
     ]
    }
   ],
   "source": [
    "# import\n",
    "from keras.models import Sequential\n",
    "from keras.layers import SimpleRNN, Dense\n",
    "\n",
    "# model\n",
    "model = Sequential()\n",
    "model.add (SimpleRNN(128, input_shape=(5,10), return_sequences=True))\n",
    "model.add (SimpleRNN(128, return_sequences=True))\n",
    "model.add (SimpleRNN(128, return_sequences=False))\n",
    "model.add (Dense(1))\n",
    "model.build()\n",
    "\n",
    "model.summary()"
   ]
  },
  {
   "cell_type": "markdown",
   "id": "significant-potter",
   "metadata": {},
   "source": [
    "# LSTM"
   ]
  },
  {
   "cell_type": "code",
   "execution_count": 16,
   "id": "violent-transportation",
   "metadata": {},
   "outputs": [
    {
     "name": "stdout",
     "output_type": "stream",
     "text": [
      "Model: \"sequential_10\"\n",
      "_________________________________________________________________\n",
      " Layer (type)                Output Shape              Param #   \n",
      "=================================================================\n",
      " lstm_2 (LSTM)               (None, 128)               71168     \n",
      "                                                                 \n",
      " dense_6 (Dense)             (None, 1)                 129       \n",
      "                                                                 \n",
      "=================================================================\n",
      "Total params: 71,297\n",
      "Trainable params: 71,297\n",
      "Non-trainable params: 0\n",
      "_________________________________________________________________\n"
     ]
    }
   ],
   "source": [
    "# import\n",
    "from keras.models import Sequential\n",
    "from keras.layers import SimpleRNN, Dense, LSTM\n",
    "\n",
    "# model\n",
    "model = Sequential()\n",
    "model.add (LSTM(128, input_shape=(5,10)))\n",
    "model.add (Dense(1))\n",
    "model.build()\n",
    "\n",
    "model.summary()"
   ]
  },
  {
   "cell_type": "code",
   "execution_count": 17,
   "id": "scenic-upper",
   "metadata": {},
   "outputs": [
    {
     "name": "stdout",
     "output_type": "stream",
     "text": [
      "lstm_2/lstm_cell_2/kernel:0 --> (10, 512)\n",
      "lstm_2/lstm_cell_2/recurrent_kernel:0 --> (128, 512)\n",
      "lstm_2/lstm_cell_2/bias:0 --> (512,)\n"
     ]
    }
   ],
   "source": [
    "# Print all metrices\n",
    "for x in model.layers[0].weights:\n",
    "    print(x.name, '-->', x.shape)"
   ]
  },
  {
   "cell_type": "code",
   "execution_count": null,
   "id": "skilled-infrared",
   "metadata": {},
   "outputs": [],
   "source": []
  }
 ],
 "metadata": {
  "kernelspec": {
   "display_name": "Python 3",
   "language": "python",
   "name": "python3"
  },
  "language_info": {
   "codemirror_mode": {
    "name": "ipython",
    "version": 3
   },
   "file_extension": ".py",
   "mimetype": "text/x-python",
   "name": "python",
   "nbconvert_exporter": "python",
   "pygments_lexer": "ipython3",
   "version": "3.7.10"
  }
 },
 "nbformat": 4,
 "nbformat_minor": 5
}
